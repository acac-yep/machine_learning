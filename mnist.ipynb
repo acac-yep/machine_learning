{
 "cells": [
  {
   "cell_type": "code",
   "execution_count": 1,
   "id": "d97e679e",
   "metadata": {},
   "outputs": [],
   "source": [
    "import tensorflow as tf\n",
    "from tensorflow.keras import datasets, layers, models\n",
    "import matplotlib.pyplot as plt\n",
    "\n",
    "(train_images, train_labels), (test_images, test_labels) = datasets.mnist.load_data()"
   ]
  },
  {
   "cell_type": "code",
   "execution_count": 2,
   "id": "97873073",
   "metadata": {},
   "outputs": [
    {
     "data": {
      "text/plain": [
       "((60000, 28, 28), (10000, 28, 28), (60000,), (10000,))"
      ]
     },
     "execution_count": 2,
     "metadata": {},
     "output_type": "execute_result"
    }
   ],
   "source": [
    "# 将像素的值标准化至0到1的区间内。\n",
    "train_images, test_images = train_images / 255.0, test_images / 255.0\n",
    "\n",
    "# 导入mnist数据，依次分别为训练集图片、训练集标签、测试集图片、测试集标签\n",
    "train_images.shape,test_images.shape,train_labels.shape,test_labels.shape"
   ]
  },
  {
   "cell_type": "code",
   "execution_count": 3,
   "id": "c254a3da",
   "metadata": {},
   "outputs": [
    {
     "data": {
      "image/png": "[encoded data removed]",
      "text/plain": [
       "<Figure size 2000x1000 with 20 Axes>"
      ]
     },
     "metadata": {},
     "output_type": "display_data"
    }
   ],
   "source": [
    "# 将数据集前20个图片数据可视化显示\n",
    "# 进行图像大小为20宽、10长的绘图(单位为英寸inch)\n",
    "plt.figure(figsize=(20,10))\n",
    "# 遍历MNIST数据集下标数值0~49\n",
    "for i in range(20):\n",
    "    # 将整个figure分成5行10列，绘制第i+1个子图。\n",
    "    plt.subplot(2,10,i+1)\n",
    "    # 设置不显示x轴刻度\n",
    "    plt.xticks([])\n",
    "    # 设置不显示y轴刻度\n",
    "    plt.yticks([])\n",
    "    # 设置不显示子图网格线\n",
    "    plt.grid(False)\n",
    "    # 图像展示，cmap为颜色图谱，\"plt.cm.binary\"为matplotlib.cm中的色表\n",
    "    plt.imshow(train_images[i], cmap=plt.cm.binary)\n",
    "    # 设置x轴标签显示为图片对应的数字\n",
    "    plt.xlabel(train_labels[i])\n",
    "# 显示图片\n",
    "plt.show()"
   ]
  },
  {
   "cell_type": "code",
   "execution_count": 4,
   "id": "d000d77e",
   "metadata": {},
   "outputs": [
    {
     "data": {
      "text/plain": [
       "((60000, 28, 28, 1), (10000, 28, 28, 1), (60000,), (10000,))"
      ]
     },
     "execution_count": 4,
     "metadata": {},
     "output_type": "execute_result"
    }
   ],
   "source": [
    "#调整数据到我们需要的格式\n",
    "train_images = train_images.reshape((60000, 28, 28, 1))\n",
    "test_images = test_images.reshape((10000, 28, 28, 1))\n",
    "\n",
    "train_images, test_images = train_images / 255.0, test_images / 255.0\n",
    "\n",
    "train_images.shape,test_images.shape,train_labels.shape,test_labels.shape"
   ]
  },
  {
   "cell_type": "code",
   "execution_count": 5,
   "id": "e8e7b92b",
   "metadata": {},
   "outputs": [
    {
     "name": "stdout",
     "output_type": "stream",
     "text": [
      "Model: \"sequential\"\n",
      "_________________________________________________________________\n",
      " Layer (type)                Output Shape              Param #   \n",
      "=================================================================\n",
      " conv2d (Conv2D)             (None, 26, 26, 32)        320       \n",
      "                                                                 \n",
      " max_pooling2d (MaxPooling2  (None, 13, 13, 32)        0         \n",
      " D)                                                              \n",
      "                                                                 \n",
      " conv2d_1 (Conv2D)           (None, 11, 11, 64)        18496     \n",
      "                                                                 \n",
      " max_pooling2d_1 (MaxPoolin  (None, 5, 5, 64)          0         \n",
      " g2D)                                                            \n",
      "                                                                 \n",
      " flatten (Flatten)           (None, 1600)              0         \n",
      "                                                                 \n",
      " dense (Dense)               (None, 64)                102464    \n",
      "                                                                 \n",
      " dense_1 (Dense)             (None, 10)                650       \n",
      "                                                                 \n",
      "=================================================================\n",
      "Total params: 121930 (476.29 KB)\n",
      "Trainable params: 121930 (476.29 KB)\n",
      "Non-trainable params: 0 (0.00 Byte)\n",
      "_________________________________________________________________\n"
     ]
    }
   ],
   "source": [
    "# 创建并设置卷积神经网络\n",
    "# 卷积层：通过卷积操作对输入图像进行降维和特征抽取\n",
    "# 池化层：是一种非线性形式的下采样。主要用于特征降维，压缩数据和参数的数量，减小过拟合，同时提高模型的鲁棒性。\n",
    "# 全连接层：在经过几个卷积和池化层之后，神经网络中的高级推理通过全连接层来完成。\n",
    "model = models.Sequential([\n",
    "    # 设置二维卷积层1，设置32个3*3卷积核，activation参数将激活函数设置为ReLu函数，input_shape参数将图层的输入形状设置为(28, 28, 1)\n",
    "    # ReLu函数作为激活励函数可以增强判定函数和整个神经网络的非线性特性，而本身并不会改变卷积层\n",
    "    # 相比其它函数来说，ReLU函数更受青睐，这是因为它可以将神经网络的训练速度提升数倍，而并不会对模型的泛化准确度造成显著影响。\n",
    "    layers.Conv2D(32, (3, 3), activation='relu', input_shape=(28, 28, 1)),\n",
    "    #池化层1，2*2采样\n",
    "    layers.MaxPooling2D((2, 2)),                   \n",
    "    # 设置二维卷积层2，设置64个3*3卷积核，activation参数将激活函数设置为ReLu函数\n",
    "    layers.Conv2D(64, (3, 3), activation='relu'),  \n",
    "    #池化层2，2*2采样\n",
    "    layers.MaxPooling2D((2, 2)),                   \n",
    "    layers.Flatten(),                    #Flatten层，连接卷积层与全连接层\n",
    "    layers.Dense(64, activation='relu'), #全连接层，特征进一步提取，64为输出空间的维数，activation参数将激活函数设置为ReLu函数\n",
    "    layers.Dense(10)                     #输出层，输出预期结果，10为输出空间的维数\n",
    "])\n",
    "# 打印网络结构\n",
    "model.summary()"
   ]
  },
  {
   "cell_type": "code",
   "execution_count": 6,
   "id": "a4b7ad85",
   "metadata": {},
   "outputs": [],
   "source": [
    "\"\"\"\n",
    "这里设置优化器、损失函数以及metrics\n",
    "这三者具体介绍可参考我的博客：\n",
    "https://blog.csdn.net/qq_38251616/category_10258234.html\n",
    "\"\"\"\n",
    "# model.compile()方法用于在配置训练方法时，告知训练时用的优化器、损失函数和准确率评测标准\n",
    "model.compile(\n",
    "    # 设置优化器为Adam优化器\n",
    "    optimizer='adam',\n",
    "    # 设置损失函数为交叉熵损失函数（tf.keras.losses.SparseCategoricalCrossentropy()）\n",
    "    # from_logits为True时，会将y_pred转化为概率（用softmax），否则不进行转换，通常情况下用True结果更稳定\n",
    "    loss=tf.keras.losses.SparseCategoricalCrossentropy(from_logits=True),\n",
    "    # 设置性能指标列表，将在模型训练时监控列表中的指标\n",
    "    metrics=['accuracy'])"
   ]
  },
  {
   "cell_type": "code",
   "execution_count": 7,
   "id": "268934f2",
   "metadata": {},
   "outputs": [
    {
     "name": "stdout",
     "output_type": "stream",
     "text": [
      "Epoch 1/10\n",
      "1875/1875 [==============================] - 16s 8ms/step - loss: 0.6781 - accuracy: 0.7805 - val_loss: 0.2769 - val_accuracy: 0.9149\n",
      "Epoch 2/10\n",
      "1875/1875 [==============================] - 15s 8ms/step - loss: 0.2271 - accuracy: 0.9321 - val_loss: 0.1609 - val_accuracy: 0.9532\n",
      "Epoch 3/10\n",
      "1875/1875 [==============================] - 15s 8ms/step - loss: 0.1456 - accuracy: 0.9563 - val_loss: 0.1091 - val_accuracy: 0.9669\n",
      "Epoch 4/10\n",
      "1875/1875 [==============================] - 15s 8ms/step - loss: 0.1116 - accuracy: 0.9663 - val_loss: 0.0865 - val_accuracy: 0.9748\n",
      "Epoch 5/10\n",
      "1875/1875 [==============================] - 15s 8ms/step - loss: 0.0938 - accuracy: 0.9714 - val_loss: 0.0751 - val_accuracy: 0.9764\n",
      "Epoch 6/10\n",
      "1875/1875 [==============================] - 16s 8ms/step - loss: 0.0833 - accuracy: 0.9741 - val_loss: 0.0809 - val_accuracy: 0.9750\n",
      "Epoch 7/10\n",
      "1875/1875 [==============================] - 15s 8ms/step - loss: 0.0753 - accuracy: 0.9767 - val_loss: 0.0708 - val_accuracy: 0.9783\n",
      "Epoch 8/10\n",
      "1875/1875 [==============================] - 16s 9ms/step - loss: 0.0693 - accuracy: 0.9788 - val_loss: 0.0624 - val_accuracy: 0.9804\n",
      "Epoch 9/10\n",
      "1875/1875 [==============================] - 16s 9ms/step - loss: 0.0643 - accuracy: 0.9803 - val_loss: 0.0652 - val_accuracy: 0.9786\n",
      "Epoch 10/10\n",
      "1875/1875 [==============================] - 16s 9ms/step - loss: 0.0600 - accuracy: 0.9818 - val_loss: 0.0676 - val_accuracy: 0.9793\n"
     ]
    }
   ],
   "source": [
    "\"\"\"\n",
    "这里设置输入训练数据集（图片及标签）、验证数据集（图片及标签）以及迭代次数epochs\n",
    "关于model.fit()函数的具体介绍可参考我的博客：\n",
    "https://blog.csdn.net/qq_38251616/category_10258234.html\n",
    "\"\"\"\n",
    "history = model.fit(\n",
    "    # 输入训练集图片\n",
    "    train_images, \n",
    "    # 输入训练集标签\n",
    "    train_labels, \n",
    "    # 设置10个epoch，每一个epoch都将会把所有的数据输入模型完成一次训练。\n",
    "    epochs=10, \n",
    "    # 设置验证集\n",
    "    validation_data=(test_images, test_labels))"
   ]
  },
  {
   "cell_type": "code",
   "execution_count": 10,
   "id": "68d531ca",
   "metadata": {},
   "outputs": [
    {
     "data": {
      "text/plain": [
       "<matplotlib.image.AxesImage at 0x240b351b190>"
      ]
     },
     "execution_count": 10,
     "metadata": {},
     "output_type": "execute_result"
    },
    {
     "data": {
      "image/png": "[encoded data removed]",
      "text/plain": [
       "<Figure size 640x480 with 1 Axes>"
      ]
     },
     "metadata": {},
     "output_type": "display_data"
    }
   ],
   "source": [
    "plt.imshow(test_images[1])"
   ]
  },
  {
   "cell_type": "code",
   "execution_count": 11,
   "id": "c50a58e2",
   "metadata": {},
   "outputs": [
    {
     "name": "stdout",
     "output_type": "stream",
     "text": [
      "313/313 [==============================] - 1s 3ms/step\n"
     ]
    },
    {
     "data": {
      "text/plain": [
       "array([  8.836972 ,   8.495686 ,  17.199331 ,   1.9705975, -22.823599 ,\n",
       "        -5.841512 ,  -2.3571057, -11.578103 ,   1.3492373, -16.942444 ],\n",
       "      dtype=float32)"
      ]
     },
     "execution_count": 11,
     "metadata": {},
     "output_type": "execute_result"
    }
   ],
   "source": [
    "pre = model.predict(test_images) # 对所有测试图片进行预测\n",
    "pre[1] # 输出第一张图片的预测结果"
   ]
  }
 ],
 "metadata": {
  "kernelspec": {
   "display_name": "Python (dzy)",
   "language": "python",
   "name": "dzy"
  },
  "language_info": {
   "codemirror_mode": {
    "name": "ipython",
    "version": 3
   },
   "file_extension": ".py",
   "mimetype": "text/x-python",
   "name": "python",
   "nbconvert_exporter": "python",
   "pygments_lexer": "ipython3",
   "version": "3.8.18"
  }
 },
 "nbformat": 4,
 "nbformat_minor": 5
}
